{
 "cells": [
  {
   "cell_type": "code",
   "execution_count": 1,
   "metadata": {},
   "outputs": [],
   "source": [
    "from pystac import CatalogType\n",
    "import spotstac\n",
    "spotstac = spotstac.SpotSTAC\n",
    "\n",
    "shp_index_path = '/Users/james/PycharmProjects/Prescient/PCI/NAPL/geobase_index/GeoBase_Orthoimage_Index/test.shp'\n",
    "STAC_output_path = '/Users/james/PycharmProjects/Prescient/PCI/NAPL/spotstac/test'"
   ]
  },
  {
   "cell_type": "code",
   "execution_count": 2,
   "metadata": {},
   "outputs": [],
   "source": [
    "from pystac import version"
   ]
  },
  {
   "cell_type": "code",
   "execution_count": 3,
   "metadata": {},
   "outputs": [],
   "source": [
    "stac = spotstac.Geobase(shp_index_path)"
   ]
  },
  {
   "cell_type": "code",
   "execution_count": 4,
   "metadata": {},
   "outputs": [
    {
     "name": "stdout",
     "output_type": "stream",
     "text": "1... S4_11728_6057_20060909\n2... S5_11448_6031_20090604\n3... S4_11709_5937_20090605\n4... S5_11132_5937_20080525\n5... S5_11230_6057_20060613\n6... S4_11528_6151_20080707\n7... S5_11442_6121_20080826\n8... S4_11352_6151_20090816\n9... S5_11110_6004_20080525\n10... S4_11114_6031_20090717\n"
    },
    {
     "data": {
      "text/plain": "<Catalog id=Geobase>"
     },
     "execution_count": 4,
     "metadata": {},
     "output_type": "execute_result"
    }
   ],
   "source": [
    "stac.build_items()"
   ]
  },
  {
   "cell_type": "code",
   "execution_count": 5,
   "metadata": {},
   "outputs": [],
   "source": [
    "stac.geobase_stac.normalize_and_save(STAC_output_path, CatalogType.ABSOLUTE_PUBLISHED)"
   ]
  },
  {
   "cell_type": "code",
   "execution_count": 45,
   "metadata": {},
   "outputs": [],
   "source": [
    "s5 = stac.geobase_stac.get_child('canada_spot_orthoimages').get_child('canada_spot4_orthoimages')"
   ]
  },
  {
   "cell_type": "code",
   "execution_count": 46,
   "metadata": {},
   "outputs": [
    {
     "data": {
      "text/plain": "{'id': 'canada_spot4_orthoimages',\n 'stac_version': '0.8.1',\n 'description': 'SPOT 4 Orthoimages of Canada 2005-2010',\n 'links': [{'rel': 'license',\n   'href': 'https://open.canada.ca/en/open-government-licence-canada',\n   'type': 'text',\n   'title': 'Open Government Licence Canada'},\n  {'rel': 'child',\n   'href': '/Users/james/PycharmProjects/Prescient/PCI/NAPL/spotstac/test/canada_spot_orthoimages/canada_spot4_orthoimages/S4_2006/catalog.json',\n   'type': 'application/json'},\n  {'rel': 'child',\n   'href': '/Users/james/PycharmProjects/Prescient/PCI/NAPL/spotstac/test/canada_spot_orthoimages/canada_spot4_orthoimages/S4_2009/catalog.json',\n   'type': 'application/json'},\n  {'rel': 'child',\n   'href': '/Users/james/PycharmProjects/Prescient/PCI/NAPL/spotstac/test/canada_spot_orthoimages/canada_spot4_orthoimages/S4_2008/catalog.json',\n   'type': 'application/json'},\n  {'rel': 'self',\n   'href': '/Users/james/PycharmProjects/Prescient/PCI/NAPL/spotstac/test/canada_spot_orthoimages/canada_spot4_orthoimages/collection.json',\n   'type': 'application/json'},\n  {'rel': 'root',\n   'href': '/Users/james/PycharmProjects/Prescient/PCI/NAPL/spotstac/test/catalog.json',\n   'type': 'application/json'},\n  {'rel': 'parent',\n   'href': '/Users/james/PycharmProjects/Prescient/PCI/NAPL/spotstac/test/canada_spot_orthoimages/catalog.json',\n   'type': 'application/json'}],\n 'title': 'SPOT 4 Orthoimages of Canada 2005-2010',\n 'extent': {'spatial': {'bbox': [[58.7784270596339,\n     -116.23756703897031,\n     62.189400331252564,\n     -110.05054430630426]]},\n  'temporal': {'interval': [['2005-05-01T00:00:00Z',\n     '2010-10-31T00:00:00Z']]}},\n 'license': 'Proprietery',\n 'stac_extensions': ['commons'],\n 'keywords': 'SPOT, Geobase, orthoimages',\n 'version': '0.0.2',\n 'providers': [{'name': 'Government of Canada',\n   'description': 'Natural Resources; Strategic Policy and Results Sector',\n   'roles': ['licensor', 'processor'],\n   'url': 'https://open.canada.ca/data/en/dataset/d799c202-603d-4e5c-b1eb-d058803f80f9'},\n  {'name': 'Sparkgeo',\n   'description': 'info@sparkegeo.com',\n   'roles': ['processor', 'host'],\n   'url': 'https://www.sparkgeo.com'},\n  {'name': 'PCI Geomatics',\n   'description': 'info@pci.com',\n   'roles': ['processor'],\n   'url': 'https://www.pcigeomatics.com'}],\n 'properties': {'bands': [{'name': 'Panchromatic',\n    'common_name': 'panchromatic',\n    'description': 'Panchromatic: 610-680 nm'},\n   {'name': 'Green',\n    'common_name': 'green',\n    'description': 'Green: 500-590 nm'},\n   {'name': 'Red', 'common_name': 'red', 'description': 'Red: 610-680 nm'},\n   {'name': 'Near Infrared',\n    'common_name': 'nir',\n    'description': 'Near Infrared: 780-890 nm'},\n   {'name': 'ShortWave Infrared',\n    'common_name': 'swir',\n    'description': 'ShortWave Infrared: 1580-1750 nm'}],\n  'platform': 'SPOT 4',\n  'gsd': 20,\n  'instrument': 'HRVIR'}}"
     },
     "execution_count": 46,
     "metadata": {},
     "output_type": "execute_result"
    }
   ],
   "source": [
    "s5.to_dict()"
   ]
  },
  {
   "cell_type": "code",
   "execution_count": null,
   "metadata": {},
   "outputs": [],
   "source": []
  }
 ],
 "metadata": {
  "kernelspec": {
   "display_name": "Python 3.6.7 64-bit ('spotstac--Y1NwJ8Y-py3.6': venv)",
   "language": "python",
   "name": "python36764bitspotstacy1nwj8ypy36venv1a6a53ee0cbc4157a0b7519392b24a7e"
  },
  "language_info": {
   "codemirror_mode": {
    "name": "ipython",
    "version": 3
   },
   "file_extension": ".py",
   "mimetype": "text/x-python",
   "name": "python",
   "nbconvert_exporter": "python",
   "pygments_lexer": "ipython3",
   "version": "3.6.7-final"
  }
 },
 "nbformat": 4,
 "nbformat_minor": 4
}