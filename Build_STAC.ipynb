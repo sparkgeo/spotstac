{
 "cells": [
  {
   "cell_type": "code",
   "execution_count": 1,
   "metadata": {},
   "outputs": [],
   "source": [
    "from pystac import CatalogType\n",
    "import spotstac\n",
    "spotstac = spotstac.SpotSTAC\n",
    "\n",
    "shp_index_path = ''\n",
    "STAC_output_path = ''"
   ]
  },
  {
   "cell_type": "code",
   "execution_count": 2,
   "metadata": {},
   "outputs": [],
   "source": [
    "stac = spotstac.Geobase(shp_index_path)"
   ]
  },
  {
   "cell_type": "code",
   "execution_count": 3,
   "metadata": {},
   "outputs": [
    {
     "name": "stdout",
     "output_type": "stream",
     "text": "1... S4_11728_6057_20060909\n2... S5_11448_6031_20090604\n3... S4_11709_5937_20090605\n4... S5_11132_5937_20080525\n5... S5_11230_6057_20060613\n6... S4_11528_6151_20080707\n7... S5_11442_6121_20080826\n8... S4_11352_6151_20090816\n9... S5_11110_6004_20080525\n10... S4_11114_6031_20090717\n"
    },
    {
     "data": {
      "text/plain": "<Catalog id=Geobase>"
     },
     "execution_count": 3,
     "metadata": {},
     "output_type": "execute_result"
    }
   ],
   "source": [
    "stac.build_items()"
   ]
  },
  {
   "cell_type": "code",
   "execution_count": 4,
   "metadata": {},
   "outputs": [],
   "source": [
    "stac.geobase_stac.normalize_and_save(STAC_output_path, CatalogType.ABSOLUTE_PUBLISHED)"
   ]
  }
 ],
 "metadata": {
  "kernelspec": {
   "display_name": "Python 3.6.7 64-bit ('spotstac--Y1NwJ8Y-py3.6': venv)",
   "language": "python",
   "name": "python36764bitspotstacy1nwj8ypy36venv1a6a53ee0cbc4157a0b7519392b24a7e"
  },
  "language_info": {
   "codemirror_mode": {
    "name": "ipython",
    "version": 3
   },
   "file_extension": ".py",
   "mimetype": "text/x-python",
   "name": "python",
   "nbconvert_exporter": "python",
   "pygments_lexer": "ipython3",
   "version": "3.6.7-final"
  }
 },
 "nbformat": 4,
 "nbformat_minor": 4
}